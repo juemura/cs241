{
 "cells": [
  {
   "cell_type": "markdown",
   "metadata": {},
   "source": [
    "Mills College\n",
    "\n",
    "CS 141-241, Machine Learning Fall 2018\n",
    "\n",
    "Instructor: Jahan Ghofraniha\n",
    "\n",
    "Final Project\n",
    "\n",
    "Due date: 12/18/2018\n",
    "\n",
    "Ian de Heer and Juliana de Heer"
   ]
  },
  {
   "cell_type": "markdown",
   "metadata": {},
   "source": [
    "<h1>Instacart Project</h1>\n",
    "\n",
    "<h3>Executive Summary</h3>\n",
    ".\n",
    ".\n",
    "."
   ]
  },
  {
   "cell_type": "markdown",
   "metadata": {},
   "source": [
    "<h3>Introduction/Background</h3>\n",
    "\n",
    "The Instacart Market Basket Analysis competition was released on Kaggle.com in May of 2017 and challenged the Kaggle community to use anonymized data from over 3 million orders to predict what would be in a given users cart the next time they placed an order. Over 2,600 people entered the competition and submitted nearly 40,000 entries before the competition closed in August of that year. While we are no longer able to participate in that challenge, we have taken it upon ourselves to come up with our own solution and see how close we can come to the best prediction models used at the time. While our experience and available resources are limited, we have the benefit of many published solutions and public discussions to help us come up with a workable model.\n",
    "\n",
    "We used an AMD Ryzen 7 1700X Eight-Core Processor with 16 CPUs at approximately 3.4GHz. While we also had access to an NVIDIA GeForce GTX 970 with 4 Gigabytes of VRAM, we were unable to utilize it for this project. \n",
    "\n",
    "Our approach was to apply the tools and information we have learned in the CS 241 Machine Learning class to the problem posed by the Instacart challenge and see how our solution measured up with the rest of the field. \n"
   ]
  },
  {
   "cell_type": "markdown",
   "metadata": {},
   "source": [
    "<h3>Survey of other projects</h3>\n",
    "\n",
    "The 2nd place entry was submitted by Kazuki Onodera, a data scientist working for Yahoo!JAPAN. Onodera used XGBoost to create two gradient boosted tree models (Edwin Chen, 2017). The first predicted which previously purchased products would be in the next order. This model depended on the user and product. The second model predicted whether the user's next order would contain any previously purchased products or not. This model only depended on the user.\n",
    "\n",
    "Kazuki decided to use more than just the provided training set to train his models. In addition to that, he included 3 previous purchases as well. His idea was that the more data he had for training, the better.\n",
    "\n",
    "His data exploration found that the most important features for predicting reorders were the 1) total number of times a user bought a specific item out of their last 5 purchases, 2) the proportion of a user's 5 most recent orders that contained an item, and 3) the longest amount of time a user has gone without buying an item in their last 5 orders. The most important features for predicting none (his second model) were whether or not a user tends to buy a lot of items at once, the maximum number of times a user has bought any item, and the maximum proportion of the 5 most recent orders in which the user bought a certain item.\n",
    "\n",
    "Kazuki Oneda initially calculated his F1 score by using a yes/no threshold of 0.2, but came across a Kaggle discussion suggesting that different orders should have different thresholds. He then came up with a simulation algorithm and calculated the expected F1 score for each set of labels, starting with the highest probability items and then adding items until the F1 score peaked and then began to decrease.\n",
    "\n",
    "While Kazuki's boosting method proved to be very effective, there were many other successful approaches. The third-place winner, Sean Vasquez, an undergraduate from MIT, used a deep learning only technique and was able to achieve a mean F-score of 0.4081041. His solution was heavily dependent on the use of neural networks for feature extraction and he did not add any manually engineered features (Vasquez, 2017). While he admits that he could have benefitted from some additional features, this approach shows that using a pure deep-learning approach can be highly effective. Another submission by Colin Morris, used a recurrent neural network approach and achieved an F1 score of 0.4048802, earning him 46th place in the competition. Generally, boosting techniques seemed to dominate the leaderboard with CatBoost, XGBoost and LightGBM coming up frequently. \n",
    "Choosing and training a model was not the most time-consuming part of the competition for many participants. According to the discussion boards, many spent weeks creating and testing different features. Feature engineering was certainly one of the key aspects of this challenge that set some of the participants ahead of the others.\n",
    "\n",
    "Interestingly, it appears that one user decided to publish his code about a week before the competition ended, causing quite a stir among many of the participants. Sh1ng, author of Arboretum, a gradient boosting algorithm that utilizes GPU's, released his solution with a baseline F1 score of 0.4029970 before the competition closed, which upset many users. The concern was that people would use his code and submit it as their own, putting anyone with a lower F1 score out of the top contender list.\n",
    "\n",
    "Another user, Mathias Muller, username Faron, contributed a kernel 2 weeks before the end of the competition that implemented an F1 optimization algorithm from a paper entitled \"Optimizing F-measures: A Tale of Two Approaches.\" His code was widely used and cited among the contributors in top positions on the leaderboards. Some users complained about the timing of his submission, as it did provide an out of the box solution to a problem that a lot of users had already put hours of effort and time into solving.\n"
   ]
  },
  {
   "cell_type": "markdown",
   "metadata": {},
   "source": [
    "<h3>Methodology</h3>\n",
    "\n",
    "We were provided with several csv files to work with. The dataset is an open-source set provided by Instacart consisting of seven csv files containing user order data, product data, and different order metrics such as day and time of purchase. Initially we were hopeful that we could apply the methods and techniques we had learned in the machine learning class to import the data, perform some exploratory data analysis and use the tools we've been exposed to for feature extraction. It quickly became clear that we were not going to be able to do that and we started to read about feature engineering and look in earnest at the more advanced techniques that were being used by people who had participated in the competition. For a while we thought we could use Keras and neural networks to automatically generate features, but the computer hardware we were using was struggling against the large amount of data we were working with. In the end, we decided to try and replicate some of the more successful features created by users in the leaderboards such as Onodera and sh1ng. Not having previous experience in feature engineering really hurt us here in terms of time.\n"
   ]
  },
  {
   "cell_type": "markdown",
   "metadata": {},
   "source": [
    "The first thing we did was an exploratory analysis of the data starting with an examination of the csv files."
   ]
  },
  {
   "cell_type": "code",
   "execution_count": 1,
   "metadata": {},
   "outputs": [],
   "source": [
    "import pandas as pd\n",
    "import seaborn as sns\n",
    "import matplotlib.pyplot as plt\n",
    "\n",
    "aisles_data = pd.read_csv('aisles.csv')\n",
    "departments_data = pd.read_csv('departments.csv')\n",
    "orders_data = pd.read_csv('orders.csv')\n",
    "products_data = pd.read_csv('products.csv')\n",
    "sample = pd.read_csv('sample_submission.csv')\n",
    "op_prior = pd.read_csv('order_products__prior.csv')\n",
    "op_train = pd.read_csv('order_products__train.csv')"
   ]
  },
  {
   "cell_type": "markdown",
   "metadata": {},
   "source": [
    " <h4>Aisles</h4>\n",
    "Aisles.csv is a simple list of aisle names and their corresponding aisle numbers."
   ]
  },
  {
   "cell_type": "code",
   "execution_count": 2,
   "metadata": {},
   "outputs": [
    {
     "name": "stdout",
     "output_type": "stream",
     "text": [
      "Number of aisles:  134\n"
     ]
    },
    {
     "data": {
      "text/html": [
       "<div>\n",
       "<style scoped>\n",
       "    .dataframe tbody tr th:only-of-type {\n",
       "        vertical-align: middle;\n",
       "    }\n",
       "\n",
       "    .dataframe tbody tr th {\n",
       "        vertical-align: top;\n",
       "    }\n",
       "\n",
       "    .dataframe thead th {\n",
       "        text-align: right;\n",
       "    }\n",
       "</style>\n",
       "<table border=\"1\" class=\"dataframe\">\n",
       "  <thead>\n",
       "    <tr style=\"text-align: right;\">\n",
       "      <th></th>\n",
       "      <th>aisle_id</th>\n",
       "      <th>aisle</th>\n",
       "    </tr>\n",
       "  </thead>\n",
       "  <tbody>\n",
       "    <tr>\n",
       "      <th>0</th>\n",
       "      <td>1</td>\n",
       "      <td>prepared soups salads</td>\n",
       "    </tr>\n",
       "    <tr>\n",
       "      <th>1</th>\n",
       "      <td>2</td>\n",
       "      <td>specialty cheeses</td>\n",
       "    </tr>\n",
       "    <tr>\n",
       "      <th>2</th>\n",
       "      <td>3</td>\n",
       "      <td>energy granola bars</td>\n",
       "    </tr>\n",
       "    <tr>\n",
       "      <th>3</th>\n",
       "      <td>4</td>\n",
       "      <td>instant foods</td>\n",
       "    </tr>\n",
       "    <tr>\n",
       "      <th>4</th>\n",
       "      <td>5</td>\n",
       "      <td>marinades meat preparation</td>\n",
       "    </tr>\n",
       "  </tbody>\n",
       "</table>\n",
       "</div>"
      ],
      "text/plain": [
       "   aisle_id                       aisle\n",
       "0         1       prepared soups salads\n",
       "1         2           specialty cheeses\n",
       "2         3         energy granola bars\n",
       "3         4               instant foods\n",
       "4         5  marinades meat preparation"
      ]
     },
     "execution_count": 2,
     "metadata": {},
     "output_type": "execute_result"
    }
   ],
   "source": [
    "print(\"Number of aisles: \", len(aisles_data.aisle_id.unique()))\n",
    "aisles_data.head()"
   ]
  },
  {
   "cell_type": "markdown",
   "metadata": {},
   "source": [
    "<h4>Departments</h4>\n",
    "Departments.csv is another simple list of department names and id's."
   ]
  },
  {
   "cell_type": "code",
   "execution_count": 3,
   "metadata": {},
   "outputs": [
    {
     "name": "stdout",
     "output_type": "stream",
     "text": [
      "Number of departments:  21\n"
     ]
    },
    {
     "data": {
      "text/html": [
       "<div>\n",
       "<style scoped>\n",
       "    .dataframe tbody tr th:only-of-type {\n",
       "        vertical-align: middle;\n",
       "    }\n",
       "\n",
       "    .dataframe tbody tr th {\n",
       "        vertical-align: top;\n",
       "    }\n",
       "\n",
       "    .dataframe thead th {\n",
       "        text-align: right;\n",
       "    }\n",
       "</style>\n",
       "<table border=\"1\" class=\"dataframe\">\n",
       "  <thead>\n",
       "    <tr style=\"text-align: right;\">\n",
       "      <th></th>\n",
       "      <th>department_id</th>\n",
       "      <th>department</th>\n",
       "    </tr>\n",
       "  </thead>\n",
       "  <tbody>\n",
       "    <tr>\n",
       "      <th>0</th>\n",
       "      <td>1</td>\n",
       "      <td>frozen</td>\n",
       "    </tr>\n",
       "    <tr>\n",
       "      <th>1</th>\n",
       "      <td>2</td>\n",
       "      <td>other</td>\n",
       "    </tr>\n",
       "    <tr>\n",
       "      <th>2</th>\n",
       "      <td>3</td>\n",
       "      <td>bakery</td>\n",
       "    </tr>\n",
       "    <tr>\n",
       "      <th>3</th>\n",
       "      <td>4</td>\n",
       "      <td>produce</td>\n",
       "    </tr>\n",
       "    <tr>\n",
       "      <th>4</th>\n",
       "      <td>5</td>\n",
       "      <td>alcohol</td>\n",
       "    </tr>\n",
       "  </tbody>\n",
       "</table>\n",
       "</div>"
      ],
      "text/plain": [
       "   department_id department\n",
       "0              1     frozen\n",
       "1              2      other\n",
       "2              3     bakery\n",
       "3              4    produce\n",
       "4              5    alcohol"
      ]
     },
     "execution_count": 3,
     "metadata": {},
     "output_type": "execute_result"
    }
   ],
   "source": [
    "print(\"Number of departments: \", len(departments_data.department_id.unique()))\n",
    "departments_data.head()"
   ]
  },
  {
   "cell_type": "markdown",
   "metadata": {},
   "source": [
    "<h4>Orders</h4>\n",
    "Below we have orders.csv, which contains a list of all of the orders contained in the dataset, with a single row for each order. We can see that user 1 submitted 5 orders, each associated with an order_id which can be cross-referenced with the order_products files to determine the contents of those orders."
   ]
  },
  {
   "cell_type": "code",
   "execution_count": 4,
   "metadata": {},
   "outputs": [
    {
     "data": {
      "text/html": [
       "<div>\n",
       "<style scoped>\n",
       "    .dataframe tbody tr th:only-of-type {\n",
       "        vertical-align: middle;\n",
       "    }\n",
       "\n",
       "    .dataframe tbody tr th {\n",
       "        vertical-align: top;\n",
       "    }\n",
       "\n",
       "    .dataframe thead th {\n",
       "        text-align: right;\n",
       "    }\n",
       "</style>\n",
       "<table border=\"1\" class=\"dataframe\">\n",
       "  <thead>\n",
       "    <tr style=\"text-align: right;\">\n",
       "      <th></th>\n",
       "      <th>order_id</th>\n",
       "      <th>user_id</th>\n",
       "      <th>eval_set</th>\n",
       "      <th>order_number</th>\n",
       "      <th>order_dow</th>\n",
       "      <th>order_hour_of_day</th>\n",
       "      <th>days_since_prior_order</th>\n",
       "    </tr>\n",
       "  </thead>\n",
       "  <tbody>\n",
       "    <tr>\n",
       "      <th>0</th>\n",
       "      <td>2539329</td>\n",
       "      <td>1</td>\n",
       "      <td>prior</td>\n",
       "      <td>1</td>\n",
       "      <td>2</td>\n",
       "      <td>8</td>\n",
       "      <td>NaN</td>\n",
       "    </tr>\n",
       "    <tr>\n",
       "      <th>1</th>\n",
       "      <td>2398795</td>\n",
       "      <td>1</td>\n",
       "      <td>prior</td>\n",
       "      <td>2</td>\n",
       "      <td>3</td>\n",
       "      <td>7</td>\n",
       "      <td>15.0</td>\n",
       "    </tr>\n",
       "    <tr>\n",
       "      <th>2</th>\n",
       "      <td>473747</td>\n",
       "      <td>1</td>\n",
       "      <td>prior</td>\n",
       "      <td>3</td>\n",
       "      <td>3</td>\n",
       "      <td>12</td>\n",
       "      <td>21.0</td>\n",
       "    </tr>\n",
       "    <tr>\n",
       "      <th>3</th>\n",
       "      <td>2254736</td>\n",
       "      <td>1</td>\n",
       "      <td>prior</td>\n",
       "      <td>4</td>\n",
       "      <td>4</td>\n",
       "      <td>7</td>\n",
       "      <td>29.0</td>\n",
       "    </tr>\n",
       "    <tr>\n",
       "      <th>4</th>\n",
       "      <td>431534</td>\n",
       "      <td>1</td>\n",
       "      <td>prior</td>\n",
       "      <td>5</td>\n",
       "      <td>4</td>\n",
       "      <td>15</td>\n",
       "      <td>28.0</td>\n",
       "    </tr>\n",
       "  </tbody>\n",
       "</table>\n",
       "</div>"
      ],
      "text/plain": [
       "   order_id  user_id eval_set  order_number  order_dow  order_hour_of_day  \\\n",
       "0   2539329        1    prior             1          2                  8   \n",
       "1   2398795        1    prior             2          3                  7   \n",
       "2    473747        1    prior             3          3                 12   \n",
       "3   2254736        1    prior             4          4                  7   \n",
       "4    431534        1    prior             5          4                 15   \n",
       "\n",
       "   days_since_prior_order  \n",
       "0                     NaN  \n",
       "1                    15.0  \n",
       "2                    21.0  \n",
       "3                    29.0  \n",
       "4                    28.0  "
      ]
     },
     "execution_count": 4,
     "metadata": {},
     "output_type": "execute_result"
    }
   ],
   "source": [
    "orders_data.head()"
   ]
  },
  {
   "cell_type": "markdown",
   "metadata": {},
   "source": [
    "<h4>Products</h4>\n",
    "Products.csv has a list of product names with their id, as well as the aisle id and department id they are associated with."
   ]
  },
  {
   "cell_type": "code",
   "execution_count": 5,
   "metadata": {},
   "outputs": [
    {
     "name": "stdout",
     "output_type": "stream",
     "text": [
      "Number of products:  49688\n"
     ]
    },
    {
     "data": {
      "text/html": [
       "<div>\n",
       "<style scoped>\n",
       "    .dataframe tbody tr th:only-of-type {\n",
       "        vertical-align: middle;\n",
       "    }\n",
       "\n",
       "    .dataframe tbody tr th {\n",
       "        vertical-align: top;\n",
       "    }\n",
       "\n",
       "    .dataframe thead th {\n",
       "        text-align: right;\n",
       "    }\n",
       "</style>\n",
       "<table border=\"1\" class=\"dataframe\">\n",
       "  <thead>\n",
       "    <tr style=\"text-align: right;\">\n",
       "      <th></th>\n",
       "      <th>product_id</th>\n",
       "      <th>product_name</th>\n",
       "      <th>aisle_id</th>\n",
       "      <th>department_id</th>\n",
       "    </tr>\n",
       "  </thead>\n",
       "  <tbody>\n",
       "    <tr>\n",
       "      <th>0</th>\n",
       "      <td>1</td>\n",
       "      <td>Chocolate Sandwich Cookies</td>\n",
       "      <td>61</td>\n",
       "      <td>19</td>\n",
       "    </tr>\n",
       "    <tr>\n",
       "      <th>1</th>\n",
       "      <td>2</td>\n",
       "      <td>All-Seasons Salt</td>\n",
       "      <td>104</td>\n",
       "      <td>13</td>\n",
       "    </tr>\n",
       "    <tr>\n",
       "      <th>2</th>\n",
       "      <td>3</td>\n",
       "      <td>Robust Golden Unsweetened Oolong Tea</td>\n",
       "      <td>94</td>\n",
       "      <td>7</td>\n",
       "    </tr>\n",
       "    <tr>\n",
       "      <th>3</th>\n",
       "      <td>4</td>\n",
       "      <td>Smart Ones Classic Favorites Mini Rigatoni Wit...</td>\n",
       "      <td>38</td>\n",
       "      <td>1</td>\n",
       "    </tr>\n",
       "    <tr>\n",
       "      <th>4</th>\n",
       "      <td>5</td>\n",
       "      <td>Green Chile Anytime Sauce</td>\n",
       "      <td>5</td>\n",
       "      <td>13</td>\n",
       "    </tr>\n",
       "  </tbody>\n",
       "</table>\n",
       "</div>"
      ],
      "text/plain": [
       "   product_id                                       product_name  aisle_id  \\\n",
       "0           1                         Chocolate Sandwich Cookies        61   \n",
       "1           2                                   All-Seasons Salt       104   \n",
       "2           3               Robust Golden Unsweetened Oolong Tea        94   \n",
       "3           4  Smart Ones Classic Favorites Mini Rigatoni Wit...        38   \n",
       "4           5                          Green Chile Anytime Sauce         5   \n",
       "\n",
       "   department_id  \n",
       "0             19  \n",
       "1             13  \n",
       "2              7  \n",
       "3              1  \n",
       "4             13  "
      ]
     },
     "execution_count": 5,
     "metadata": {},
     "output_type": "execute_result"
    }
   ],
   "source": [
    "print(\"Number of products: \", len(products_data.product_id.unique()))\n",
    "products_data.head()"
   ]
  },
  {
   "cell_type": "markdown",
   "metadata": {},
   "source": [
    "<h4>Order_products__prior</h4>\n",
    "Order_products_prior.csv has information about which products were ordered for a given order_id. The order_id can be cross-referenced with the orders.csv to find what user submitted the order, and the product_id can be used to find more product information from the products.csv. We also have information about whether or not the item was reordered, and the order with which it was placed into the cart.\n"
   ]
  },
  {
   "cell_type": "code",
   "execution_count": 6,
   "metadata": {},
   "outputs": [
    {
     "name": "stdout",
     "output_type": "stream",
     "text": [
      "(32434489, 4)\n"
     ]
    },
    {
     "data": {
      "text/html": [
       "<div>\n",
       "<style scoped>\n",
       "    .dataframe tbody tr th:only-of-type {\n",
       "        vertical-align: middle;\n",
       "    }\n",
       "\n",
       "    .dataframe tbody tr th {\n",
       "        vertical-align: top;\n",
       "    }\n",
       "\n",
       "    .dataframe thead th {\n",
       "        text-align: right;\n",
       "    }\n",
       "</style>\n",
       "<table border=\"1\" class=\"dataframe\">\n",
       "  <thead>\n",
       "    <tr style=\"text-align: right;\">\n",
       "      <th></th>\n",
       "      <th>order_id</th>\n",
       "      <th>product_id</th>\n",
       "      <th>add_to_cart_order</th>\n",
       "      <th>reordered</th>\n",
       "    </tr>\n",
       "  </thead>\n",
       "  <tbody>\n",
       "    <tr>\n",
       "      <th>0</th>\n",
       "      <td>2</td>\n",
       "      <td>33120</td>\n",
       "      <td>1</td>\n",
       "      <td>1</td>\n",
       "    </tr>\n",
       "    <tr>\n",
       "      <th>1</th>\n",
       "      <td>2</td>\n",
       "      <td>28985</td>\n",
       "      <td>2</td>\n",
       "      <td>1</td>\n",
       "    </tr>\n",
       "    <tr>\n",
       "      <th>2</th>\n",
       "      <td>2</td>\n",
       "      <td>9327</td>\n",
       "      <td>3</td>\n",
       "      <td>0</td>\n",
       "    </tr>\n",
       "    <tr>\n",
       "      <th>3</th>\n",
       "      <td>2</td>\n",
       "      <td>45918</td>\n",
       "      <td>4</td>\n",
       "      <td>1</td>\n",
       "    </tr>\n",
       "    <tr>\n",
       "      <th>4</th>\n",
       "      <td>2</td>\n",
       "      <td>30035</td>\n",
       "      <td>5</td>\n",
       "      <td>0</td>\n",
       "    </tr>\n",
       "  </tbody>\n",
       "</table>\n",
       "</div>"
      ],
      "text/plain": [
       "   order_id  product_id  add_to_cart_order  reordered\n",
       "0         2       33120                  1          1\n",
       "1         2       28985                  2          1\n",
       "2         2        9327                  3          0\n",
       "3         2       45918                  4          1\n",
       "4         2       30035                  5          0"
      ]
     },
     "execution_count": 6,
     "metadata": {},
     "output_type": "execute_result"
    }
   ],
   "source": [
    "print(op_prior.shape)\n",
    "op_prior.head()"
   ]
  },
  {
   "cell_type": "markdown",
   "metadata": {},
   "source": [
    "<h4>Order_products__train</h4>\n",
    "Order_products_train.csv is the same as order_products__prior.csv."
   ]
  },
  {
   "cell_type": "code",
   "execution_count": 7,
   "metadata": {},
   "outputs": [
    {
     "name": "stdout",
     "output_type": "stream",
     "text": [
      "(1384617, 4)\n"
     ]
    },
    {
     "data": {
      "text/html": [
       "<div>\n",
       "<style scoped>\n",
       "    .dataframe tbody tr th:only-of-type {\n",
       "        vertical-align: middle;\n",
       "    }\n",
       "\n",
       "    .dataframe tbody tr th {\n",
       "        vertical-align: top;\n",
       "    }\n",
       "\n",
       "    .dataframe thead th {\n",
       "        text-align: right;\n",
       "    }\n",
       "</style>\n",
       "<table border=\"1\" class=\"dataframe\">\n",
       "  <thead>\n",
       "    <tr style=\"text-align: right;\">\n",
       "      <th></th>\n",
       "      <th>order_id</th>\n",
       "      <th>product_id</th>\n",
       "      <th>add_to_cart_order</th>\n",
       "      <th>reordered</th>\n",
       "    </tr>\n",
       "  </thead>\n",
       "  <tbody>\n",
       "    <tr>\n",
       "      <th>0</th>\n",
       "      <td>1</td>\n",
       "      <td>49302</td>\n",
       "      <td>1</td>\n",
       "      <td>1</td>\n",
       "    </tr>\n",
       "    <tr>\n",
       "      <th>1</th>\n",
       "      <td>1</td>\n",
       "      <td>11109</td>\n",
       "      <td>2</td>\n",
       "      <td>1</td>\n",
       "    </tr>\n",
       "    <tr>\n",
       "      <th>2</th>\n",
       "      <td>1</td>\n",
       "      <td>10246</td>\n",
       "      <td>3</td>\n",
       "      <td>0</td>\n",
       "    </tr>\n",
       "    <tr>\n",
       "      <th>3</th>\n",
       "      <td>1</td>\n",
       "      <td>49683</td>\n",
       "      <td>4</td>\n",
       "      <td>0</td>\n",
       "    </tr>\n",
       "    <tr>\n",
       "      <th>4</th>\n",
       "      <td>1</td>\n",
       "      <td>43633</td>\n",
       "      <td>5</td>\n",
       "      <td>1</td>\n",
       "    </tr>\n",
       "  </tbody>\n",
       "</table>\n",
       "</div>"
      ],
      "text/plain": [
       "   order_id  product_id  add_to_cart_order  reordered\n",
       "0         1       49302                  1          1\n",
       "1         1       11109                  2          1\n",
       "2         1       10246                  3          0\n",
       "3         1       49683                  4          0\n",
       "4         1       43633                  5          1"
      ]
     },
     "execution_count": 7,
     "metadata": {},
     "output_type": "execute_result"
    }
   ],
   "source": [
    "op_train = pd.read_csv('order_products__train.csv')\n",
    "print(op_train.shape)\n",
    "op_train.head()"
   ]
  },
  {
   "cell_type": "markdown",
   "metadata": {},
   "source": [
    "We see first off that some of the information seems to be more important at first glance. It isn't imediately clear how the aisle information will be relevant, for instance. The orders.csv seems to have the richest wealth of information to dig into, with 3.4 million orders from over 200,000 customers and data such as the number of days since the last order. When paired with the order_products__prior.csv data, we see that this is where most of the analysis is going to take place. "
   ]
  },
  {
   "cell_type": "markdown",
   "metadata": {},
   "source": [
    "Let's gather some information about our dataset, such as how many unique users and products there are.\n",
    "<h4>Getting a Handle on the Data</h4>"
   ]
  },
  {
   "cell_type": "code",
   "execution_count": 8,
   "metadata": {},
   "outputs": [
    {
     "name": "stdout",
     "output_type": "stream",
     "text": [
      "Number of unique customers:  206209\n",
      "Number of unique products: 49688\n",
      "Number of orders:  3421083\n"
     ]
    }
   ],
   "source": [
    "print(\"Number of unique customers: \",len(set(orders_data.user_id)))\n",
    "print(\"Number of unique products: {}\".format(len(products_data.product_id.unique())))\n",
    "print(\"Number of orders: \", len(orders_data.order_id.unique()))"
   ]
  },
  {
   "cell_type": "markdown",
   "metadata": {},
   "source": [
    "There are 206,209 unique customers and 49,688 unique products in 3,421,083 separate orders."
   ]
  },
  {
   "cell_type": "markdown",
   "metadata": {},
   "source": [
    "Let's take a look at an individual user."
   ]
  },
  {
   "cell_type": "code",
   "execution_count": 9,
   "metadata": {},
   "outputs": [
    {
     "data": {
      "text/html": [
       "<div>\n",
       "<style scoped>\n",
       "    .dataframe tbody tr th:only-of-type {\n",
       "        vertical-align: middle;\n",
       "    }\n",
       "\n",
       "    .dataframe tbody tr th {\n",
       "        vertical-align: top;\n",
       "    }\n",
       "\n",
       "    .dataframe thead th {\n",
       "        text-align: right;\n",
       "    }\n",
       "</style>\n",
       "<table border=\"1\" class=\"dataframe\">\n",
       "  <thead>\n",
       "    <tr style=\"text-align: right;\">\n",
       "      <th></th>\n",
       "      <th>order_id</th>\n",
       "      <th>user_id</th>\n",
       "      <th>eval_set</th>\n",
       "      <th>order_number</th>\n",
       "      <th>order_dow</th>\n",
       "      <th>order_hour_of_day</th>\n",
       "      <th>days_since_prior_order</th>\n",
       "    </tr>\n",
       "  </thead>\n",
       "  <tbody>\n",
       "    <tr>\n",
       "      <th>0</th>\n",
       "      <td>2539329</td>\n",
       "      <td>1</td>\n",
       "      <td>prior</td>\n",
       "      <td>1</td>\n",
       "      <td>2</td>\n",
       "      <td>8</td>\n",
       "      <td>NaN</td>\n",
       "    </tr>\n",
       "    <tr>\n",
       "      <th>1</th>\n",
       "      <td>2398795</td>\n",
       "      <td>1</td>\n",
       "      <td>prior</td>\n",
       "      <td>2</td>\n",
       "      <td>3</td>\n",
       "      <td>7</td>\n",
       "      <td>15.0</td>\n",
       "    </tr>\n",
       "    <tr>\n",
       "      <th>2</th>\n",
       "      <td>473747</td>\n",
       "      <td>1</td>\n",
       "      <td>prior</td>\n",
       "      <td>3</td>\n",
       "      <td>3</td>\n",
       "      <td>12</td>\n",
       "      <td>21.0</td>\n",
       "    </tr>\n",
       "    <tr>\n",
       "      <th>3</th>\n",
       "      <td>2254736</td>\n",
       "      <td>1</td>\n",
       "      <td>prior</td>\n",
       "      <td>4</td>\n",
       "      <td>4</td>\n",
       "      <td>7</td>\n",
       "      <td>29.0</td>\n",
       "    </tr>\n",
       "    <tr>\n",
       "      <th>4</th>\n",
       "      <td>431534</td>\n",
       "      <td>1</td>\n",
       "      <td>prior</td>\n",
       "      <td>5</td>\n",
       "      <td>4</td>\n",
       "      <td>15</td>\n",
       "      <td>28.0</td>\n",
       "    </tr>\n",
       "    <tr>\n",
       "      <th>5</th>\n",
       "      <td>3367565</td>\n",
       "      <td>1</td>\n",
       "      <td>prior</td>\n",
       "      <td>6</td>\n",
       "      <td>2</td>\n",
       "      <td>7</td>\n",
       "      <td>19.0</td>\n",
       "    </tr>\n",
       "    <tr>\n",
       "      <th>6</th>\n",
       "      <td>550135</td>\n",
       "      <td>1</td>\n",
       "      <td>prior</td>\n",
       "      <td>7</td>\n",
       "      <td>1</td>\n",
       "      <td>9</td>\n",
       "      <td>20.0</td>\n",
       "    </tr>\n",
       "    <tr>\n",
       "      <th>7</th>\n",
       "      <td>3108588</td>\n",
       "      <td>1</td>\n",
       "      <td>prior</td>\n",
       "      <td>8</td>\n",
       "      <td>1</td>\n",
       "      <td>14</td>\n",
       "      <td>14.0</td>\n",
       "    </tr>\n",
       "    <tr>\n",
       "      <th>8</th>\n",
       "      <td>2295261</td>\n",
       "      <td>1</td>\n",
       "      <td>prior</td>\n",
       "      <td>9</td>\n",
       "      <td>1</td>\n",
       "      <td>16</td>\n",
       "      <td>0.0</td>\n",
       "    </tr>\n",
       "    <tr>\n",
       "      <th>9</th>\n",
       "      <td>2550362</td>\n",
       "      <td>1</td>\n",
       "      <td>prior</td>\n",
       "      <td>10</td>\n",
       "      <td>4</td>\n",
       "      <td>8</td>\n",
       "      <td>30.0</td>\n",
       "    </tr>\n",
       "    <tr>\n",
       "      <th>10</th>\n",
       "      <td>1187899</td>\n",
       "      <td>1</td>\n",
       "      <td>train</td>\n",
       "      <td>11</td>\n",
       "      <td>4</td>\n",
       "      <td>8</td>\n",
       "      <td>14.0</td>\n",
       "    </tr>\n",
       "  </tbody>\n",
       "</table>\n",
       "</div>"
      ],
      "text/plain": [
       "    order_id  user_id eval_set  order_number  order_dow  order_hour_of_day  \\\n",
       "0    2539329        1    prior             1          2                  8   \n",
       "1    2398795        1    prior             2          3                  7   \n",
       "2     473747        1    prior             3          3                 12   \n",
       "3    2254736        1    prior             4          4                  7   \n",
       "4     431534        1    prior             5          4                 15   \n",
       "5    3367565        1    prior             6          2                  7   \n",
       "6     550135        1    prior             7          1                  9   \n",
       "7    3108588        1    prior             8          1                 14   \n",
       "8    2295261        1    prior             9          1                 16   \n",
       "9    2550362        1    prior            10          4                  8   \n",
       "10   1187899        1    train            11          4                  8   \n",
       "\n",
       "    days_since_prior_order  \n",
       "0                      NaN  \n",
       "1                     15.0  \n",
       "2                     21.0  \n",
       "3                     29.0  \n",
       "4                     28.0  \n",
       "5                     19.0  \n",
       "6                     20.0  \n",
       "7                     14.0  \n",
       "8                      0.0  \n",
       "9                     30.0  \n",
       "10                    14.0  "
      ]
     },
     "execution_count": 9,
     "metadata": {},
     "output_type": "execute_result"
    }
   ],
   "source": [
    "orders_data[orders_data.user_id == 1]"
   ]
  },
  {
   "cell_type": "markdown",
   "metadata": {},
   "source": [
    "This users placed 11 orders with the final one being marked as \"train.\" Let's explore that. A deeper look at the eval_set column in the orders.csv reveals 3 data types. (SRK, 2017)."
   ]
  },
  {
   "cell_type": "code",
   "execution_count": 10,
   "metadata": {},
   "outputs": [
    {
     "data": {
      "image/png": "[encoded data removed]",
      "text/plain": [
       "<Figure size 576x576 with 1 Axes>"
      ]
     },
     "metadata": {},
     "output_type": "display_data"
    }
   ],
   "source": [
    "datasets = orders_data.eval_set.value_counts()\n",
    "\n",
    "sns.set_style('whitegrid')\n",
    "f, ax = plt.subplots(figsize=(8, 8))\n",
    "sns.barplot(datasets.index, datasets.values, palette='coolwarm')\n",
    "plt.ylabel('Number of Orders', fontsize=14)\n",
    "plt.xlabel('Datasets', fontsize=14)\n",
    "plt.show()"
   ]
  },
  {
   "cell_type": "code",
   "execution_count": 11,
   "metadata": {},
   "outputs": [
    {
     "data": {
      "text/plain": [
       "eval_set\n",
       "prior    3214874\n",
       "test       75000\n",
       "train     131209\n",
       "Name: order_id, dtype: int64"
      ]
     },
     "execution_count": 11,
     "metadata": {},
     "output_type": "execute_result"
    }
   ],
   "source": [
    "orders_data.groupby(\"eval_set\")[\"order_id\"].unique().apply(len)"
   ]
  },
  {
   "cell_type": "code",
   "execution_count": 21,
   "metadata": {},
   "outputs": [
    {
     "name": "stdout",
     "output_type": "stream",
     "text": [
      "Number of orders in order_products_prior:  3214874\n",
      "Number of orders in order_products_train:  131209\n"
     ]
    }
   ],
   "source": [
    "print(\"Number of orders in order_products_prior: \", len(op_prior.order_id.unique()))\n",
    "print(\"Number of orders in order_products_train: \", len(op_train.order_id.unique()))"
   ]
  },
  {
   "cell_type": "code",
   "execution_count": 13,
   "metadata": {},
   "outputs": [
    {
     "data": {
      "text/html": [
       "<div>\n",
       "<style scoped>\n",
       "    .dataframe tbody tr th:only-of-type {\n",
       "        vertical-align: middle;\n",
       "    }\n",
       "\n",
       "    .dataframe tbody tr th {\n",
       "        vertical-align: top;\n",
       "    }\n",
       "\n",
       "    .dataframe thead th {\n",
       "        text-align: right;\n",
       "    }\n",
       "</style>\n",
       "<table border=\"1\" class=\"dataframe\">\n",
       "  <thead>\n",
       "    <tr style=\"text-align: right;\">\n",
       "      <th></th>\n",
       "      <th>order_id</th>\n",
       "      <th>user_id</th>\n",
       "      <th>eval_set</th>\n",
       "      <th>order_number</th>\n",
       "      <th>order_dow</th>\n",
       "      <th>order_hour_of_day</th>\n",
       "      <th>days_since_prior_order</th>\n",
       "    </tr>\n",
       "  </thead>\n",
       "  <tbody>\n",
       "    <tr>\n",
       "      <th>10</th>\n",
       "      <td>1187899</td>\n",
       "      <td>1</td>\n",
       "      <td>train</td>\n",
       "      <td>11</td>\n",
       "      <td>4</td>\n",
       "      <td>8</td>\n",
       "      <td>14.0</td>\n",
       "    </tr>\n",
       "    <tr>\n",
       "      <th>25</th>\n",
       "      <td>1492625</td>\n",
       "      <td>2</td>\n",
       "      <td>train</td>\n",
       "      <td>15</td>\n",
       "      <td>1</td>\n",
       "      <td>11</td>\n",
       "      <td>30.0</td>\n",
       "    </tr>\n",
       "    <tr>\n",
       "      <th>49</th>\n",
       "      <td>2196797</td>\n",
       "      <td>5</td>\n",
       "      <td>train</td>\n",
       "      <td>5</td>\n",
       "      <td>0</td>\n",
       "      <td>11</td>\n",
       "      <td>6.0</td>\n",
       "    </tr>\n",
       "    <tr>\n",
       "      <th>74</th>\n",
       "      <td>525192</td>\n",
       "      <td>7</td>\n",
       "      <td>train</td>\n",
       "      <td>21</td>\n",
       "      <td>2</td>\n",
       "      <td>11</td>\n",
       "      <td>6.0</td>\n",
       "    </tr>\n",
       "    <tr>\n",
       "      <th>78</th>\n",
       "      <td>880375</td>\n",
       "      <td>8</td>\n",
       "      <td>train</td>\n",
       "      <td>4</td>\n",
       "      <td>1</td>\n",
       "      <td>14</td>\n",
       "      <td>10.0</td>\n",
       "    </tr>\n",
       "  </tbody>\n",
       "</table>\n",
       "</div>"
      ],
      "text/plain": [
       "    order_id  user_id eval_set  order_number  order_dow  order_hour_of_day  \\\n",
       "10   1187899        1    train            11          4                  8   \n",
       "25   1492625        2    train            15          1                 11   \n",
       "49   2196797        5    train             5          0                 11   \n",
       "74    525192        7    train            21          2                 11   \n",
       "78    880375        8    train             4          1                 14   \n",
       "\n",
       "    days_since_prior_order  \n",
       "10                    14.0  \n",
       "25                    30.0  \n",
       "49                     6.0  \n",
       "74                     6.0  \n",
       "78                    10.0  "
      ]
     },
     "execution_count": 13,
     "metadata": {},
     "output_type": "execute_result"
    }
   ],
   "source": [
    "orders_data[orders_data.eval_set == \"train\"].head()"
   ]
  },
  {
   "cell_type": "code",
   "execution_count": 14,
   "metadata": {},
   "outputs": [
    {
     "data": {
      "text/html": [
       "<div>\n",
       "<style scoped>\n",
       "    .dataframe tbody tr th:only-of-type {\n",
       "        vertical-align: middle;\n",
       "    }\n",
       "\n",
       "    .dataframe tbody tr th {\n",
       "        vertical-align: top;\n",
       "    }\n",
       "\n",
       "    .dataframe thead th {\n",
       "        text-align: right;\n",
       "    }\n",
       "</style>\n",
       "<table border=\"1\" class=\"dataframe\">\n",
       "  <thead>\n",
       "    <tr style=\"text-align: right;\">\n",
       "      <th></th>\n",
       "      <th>order_id</th>\n",
       "      <th>user_id</th>\n",
       "      <th>eval_set</th>\n",
       "      <th>order_number</th>\n",
       "      <th>order_dow</th>\n",
       "      <th>order_hour_of_day</th>\n",
       "      <th>days_since_prior_order</th>\n",
       "    </tr>\n",
       "  </thead>\n",
       "  <tbody>\n",
       "    <tr>\n",
       "      <th>38</th>\n",
       "      <td>2774568</td>\n",
       "      <td>3</td>\n",
       "      <td>test</td>\n",
       "      <td>13</td>\n",
       "      <td>5</td>\n",
       "      <td>15</td>\n",
       "      <td>11.0</td>\n",
       "    </tr>\n",
       "    <tr>\n",
       "      <th>44</th>\n",
       "      <td>329954</td>\n",
       "      <td>4</td>\n",
       "      <td>test</td>\n",
       "      <td>6</td>\n",
       "      <td>3</td>\n",
       "      <td>12</td>\n",
       "      <td>30.0</td>\n",
       "    </tr>\n",
       "    <tr>\n",
       "      <th>53</th>\n",
       "      <td>1528013</td>\n",
       "      <td>6</td>\n",
       "      <td>test</td>\n",
       "      <td>4</td>\n",
       "      <td>3</td>\n",
       "      <td>16</td>\n",
       "      <td>22.0</td>\n",
       "    </tr>\n",
       "    <tr>\n",
       "      <th>96</th>\n",
       "      <td>1376945</td>\n",
       "      <td>11</td>\n",
       "      <td>test</td>\n",
       "      <td>8</td>\n",
       "      <td>6</td>\n",
       "      <td>11</td>\n",
       "      <td>8.0</td>\n",
       "    </tr>\n",
       "    <tr>\n",
       "      <th>102</th>\n",
       "      <td>1356845</td>\n",
       "      <td>12</td>\n",
       "      <td>test</td>\n",
       "      <td>6</td>\n",
       "      <td>1</td>\n",
       "      <td>20</td>\n",
       "      <td>30.0</td>\n",
       "    </tr>\n",
       "  </tbody>\n",
       "</table>\n",
       "</div>"
      ],
      "text/plain": [
       "     order_id  user_id eval_set  order_number  order_dow  order_hour_of_day  \\\n",
       "38    2774568        3     test            13          5                 15   \n",
       "44     329954        4     test             6          3                 12   \n",
       "53    1528013        6     test             4          3                 16   \n",
       "96    1376945       11     test             8          6                 11   \n",
       "102   1356845       12     test             6          1                 20   \n",
       "\n",
       "     days_since_prior_order  \n",
       "38                     11.0  \n",
       "44                     30.0  \n",
       "53                     22.0  \n",
       "96                      8.0  \n",
       "102                    30.0  "
      ]
     },
     "execution_count": 14,
     "metadata": {},
     "output_type": "execute_result"
    }
   ],
   "source": [
    "orders_data[orders_data.eval_set == \"test\"].head()"
   ]
  },
  {
   "cell_type": "code",
   "execution_count": 15,
   "metadata": {},
   "outputs": [
    {
     "data": {
      "text/html": [
       "<div>\n",
       "<style scoped>\n",
       "    .dataframe tbody tr th:only-of-type {\n",
       "        vertical-align: middle;\n",
       "    }\n",
       "\n",
       "    .dataframe tbody tr th {\n",
       "        vertical-align: top;\n",
       "    }\n",
       "\n",
       "    .dataframe thead th {\n",
       "        text-align: right;\n",
       "    }\n",
       "</style>\n",
       "<table border=\"1\" class=\"dataframe\">\n",
       "  <thead>\n",
       "    <tr style=\"text-align: right;\">\n",
       "      <th></th>\n",
       "      <th>order_id</th>\n",
       "      <th>product_id</th>\n",
       "      <th>add_to_cart_order</th>\n",
       "      <th>reordered</th>\n",
       "    </tr>\n",
       "  </thead>\n",
       "  <tbody>\n",
       "    <tr>\n",
       "      <th>484420</th>\n",
       "      <td>1187899</td>\n",
       "      <td>196</td>\n",
       "      <td>1</td>\n",
       "      <td>1</td>\n",
       "    </tr>\n",
       "    <tr>\n",
       "      <th>484421</th>\n",
       "      <td>1187899</td>\n",
       "      <td>25133</td>\n",
       "      <td>2</td>\n",
       "      <td>1</td>\n",
       "    </tr>\n",
       "    <tr>\n",
       "      <th>484422</th>\n",
       "      <td>1187899</td>\n",
       "      <td>38928</td>\n",
       "      <td>3</td>\n",
       "      <td>1</td>\n",
       "    </tr>\n",
       "    <tr>\n",
       "      <th>484423</th>\n",
       "      <td>1187899</td>\n",
       "      <td>26405</td>\n",
       "      <td>4</td>\n",
       "      <td>1</td>\n",
       "    </tr>\n",
       "    <tr>\n",
       "      <th>484424</th>\n",
       "      <td>1187899</td>\n",
       "      <td>39657</td>\n",
       "      <td>5</td>\n",
       "      <td>1</td>\n",
       "    </tr>\n",
       "    <tr>\n",
       "      <th>484425</th>\n",
       "      <td>1187899</td>\n",
       "      <td>10258</td>\n",
       "      <td>6</td>\n",
       "      <td>1</td>\n",
       "    </tr>\n",
       "    <tr>\n",
       "      <th>484426</th>\n",
       "      <td>1187899</td>\n",
       "      <td>13032</td>\n",
       "      <td>7</td>\n",
       "      <td>1</td>\n",
       "    </tr>\n",
       "    <tr>\n",
       "      <th>484427</th>\n",
       "      <td>1187899</td>\n",
       "      <td>26088</td>\n",
       "      <td>8</td>\n",
       "      <td>1</td>\n",
       "    </tr>\n",
       "    <tr>\n",
       "      <th>484428</th>\n",
       "      <td>1187899</td>\n",
       "      <td>27845</td>\n",
       "      <td>9</td>\n",
       "      <td>0</td>\n",
       "    </tr>\n",
       "    <tr>\n",
       "      <th>484429</th>\n",
       "      <td>1187899</td>\n",
       "      <td>49235</td>\n",
       "      <td>10</td>\n",
       "      <td>1</td>\n",
       "    </tr>\n",
       "    <tr>\n",
       "      <th>484430</th>\n",
       "      <td>1187899</td>\n",
       "      <td>46149</td>\n",
       "      <td>11</td>\n",
       "      <td>1</td>\n",
       "    </tr>\n",
       "  </tbody>\n",
       "</table>\n",
       "</div>"
      ],
      "text/plain": [
       "        order_id  product_id  add_to_cart_order  reordered\n",
       "484420   1187899         196                  1          1\n",
       "484421   1187899       25133                  2          1\n",
       "484422   1187899       38928                  3          1\n",
       "484423   1187899       26405                  4          1\n",
       "484424   1187899       39657                  5          1\n",
       "484425   1187899       10258                  6          1\n",
       "484426   1187899       13032                  7          1\n",
       "484427   1187899       26088                  8          1\n",
       "484428   1187899       27845                  9          0\n",
       "484429   1187899       49235                 10          1\n",
       "484430   1187899       46149                 11          1"
      ]
     },
     "execution_count": 15,
     "metadata": {},
     "output_type": "execute_result"
    }
   ],
   "source": [
    "op_train[op_train.order_id == 1187899]"
   ]
  },
  {
   "cell_type": "markdown",
   "metadata": {},
   "source": [
    "<h4>Summary of What We Have Learned So Far</h4>\n",
    "The dataset has been broken up into different chunks that will need to be merged and parsed in order to create our features. The orders.csv contains user order data with 1 row per order and an eval_set designation of either prior, train or test. These designations signify which order_products file will contain the actual order data. We can see that from the total 206,209 orders we identified in the dataset, the final purchase made by 131,209 users has been labeled as train. This suggests that these final orders are going to be used to train our model. Cross referencing the order_id with the prior and train csv files confirms that the number of orders labeled as \"prior\" and \"train\" align exactly with the number of unique order_id's in the corresponding files."
   ]
  },
  {
   "cell_type": "markdown",
   "metadata": {},
   "source": [
    "Now that we have an idea of what we're looking at, we should examine most frequently reordered products using the data from order_products__prior.csv (Serigne, 2017). We should be able to develop some ideas about which features will be predictive from this analysis.\n",
    "\n",
    "<h4>Most Commonly Ordered Products</h4>"
   ]
  },
  {
   "cell_type": "code",
   "execution_count": 16,
   "metadata": {},
   "outputs": [
    {
     "name": "stderr",
     "output_type": "stream",
     "text": [
      "C:\\Users\\mazed\\Anaconda3\\lib\\site-packages\\ipykernel_launcher.py:1: FutureWarning: using a dict on a Series for aggregation\n",
      "is deprecated and will be removed in a future version\n",
      "  \"\"\"Entry point for launching an IPython kernel.\n"
     ]
    },
    {
     "data": {
      "image/png": "[encoded data removed]",
      "text/plain": [
       "<Figure size 1008x720 with 1 Axes>"
      ]
     },
     "metadata": {},
     "output_type": "display_data"
    }
   ],
   "source": [
    "top_items = op_prior.groupby(\"product_id\")[\"reordered\"].aggregate({'Total_reorders': 'count'}).reset_index()\n",
    "top_items = pd.merge(top_items, products_data[['product_id', 'product_name']], how='left', on=['product_id'])\n",
    "top_items = top_items.sort_values(by='Total_reorders', ascending=False)[:12]\n",
    "top_items = top_items.groupby(['product_name']).sum()['Total_reorders'].sort_values(ascending=False)\n",
    "\n",
    "sns.set_style('whitegrid')\n",
    "f, ax = plt.subplots(figsize=(14, 10))\n",
    "plt.xticks(rotation='vertical')\n",
    "sns.barplot(top_items.index, top_items.values, palette='coolwarm')\n",
    "plt.ylabel('Times Reordered', fontsize=15)\n",
    "plt.xlabel('Most ordered Products', fontsize=15)\n",
    "plt.show()"
   ]
  },
  {
   "cell_type": "markdown",
   "metadata": {},
   "source": [
    "This shows us that fruits and vegetables dominate the top most ordered products list. What are the most frequently re-ordered products? The table below shows the products that are most likely to be reordered, sorted by the probability. (Serigne, 2017)"
   ]
  },
  {
   "cell_type": "code",
   "execution_count": 22,
   "metadata": {},
   "outputs": [
    {
     "name": "stderr",
     "output_type": "stream",
     "text": [
      "C:\\Users\\mazed\\Anaconda3\\lib\\site-packages\\ipykernel_launcher.py:1: FutureWarning: using a dict on a Series for aggregation\n",
      "is deprecated and will be removed in a future version\n",
      "  \"\"\"Entry point for launching an IPython kernel.\n"
     ]
    },
    {
     "data": {
      "text/html": [
       "<div>\n",
       "<style scoped>\n",
       "    .dataframe tbody tr th:only-of-type {\n",
       "        vertical-align: middle;\n",
       "    }\n",
       "\n",
       "    .dataframe tbody tr th {\n",
       "        vertical-align: top;\n",
       "    }\n",
       "\n",
       "    .dataframe thead th {\n",
       "        text-align: right;\n",
       "    }\n",
       "</style>\n",
       "<table border=\"1\" class=\"dataframe\">\n",
       "  <thead>\n",
       "    <tr style=\"text-align: right;\">\n",
       "      <th></th>\n",
       "      <th>product_id</th>\n",
       "      <th>reorder_sum</th>\n",
       "      <th>reorder_total</th>\n",
       "      <th>reorder_probability</th>\n",
       "      <th>product_name</th>\n",
       "    </tr>\n",
       "  </thead>\n",
       "  <tbody>\n",
       "    <tr>\n",
       "      <th>2074</th>\n",
       "      <td>2075</td>\n",
       "      <td>81</td>\n",
       "      <td>87</td>\n",
       "      <td>0.931034</td>\n",
       "      <td>Serenity Ultimate Extrema Overnight Pads</td>\n",
       "    </tr>\n",
       "    <tr>\n",
       "      <th>27734</th>\n",
       "      <td>27740</td>\n",
       "      <td>93</td>\n",
       "      <td>101</td>\n",
       "      <td>0.920792</td>\n",
       "      <td>Chocolate Love Bar</td>\n",
       "    </tr>\n",
       "    <tr>\n",
       "      <th>35598</th>\n",
       "      <td>35604</td>\n",
       "      <td>90</td>\n",
       "      <td>100</td>\n",
       "      <td>0.900000</td>\n",
       "      <td>Maca Buttercups</td>\n",
       "    </tr>\n",
       "    <tr>\n",
       "      <th>38243</th>\n",
       "      <td>38251</td>\n",
       "      <td>99</td>\n",
       "      <td>111</td>\n",
       "      <td>0.891892</td>\n",
       "      <td>Benchbreak Chardonnay</td>\n",
       "    </tr>\n",
       "    <tr>\n",
       "      <th>36794</th>\n",
       "      <td>36801</td>\n",
       "      <td>85</td>\n",
       "      <td>96</td>\n",
       "      <td>0.885417</td>\n",
       "      <td>Organic Blueberry B Mega</td>\n",
       "    </tr>\n",
       "    <tr>\n",
       "      <th>10232</th>\n",
       "      <td>10236</td>\n",
       "      <td>113</td>\n",
       "      <td>129</td>\n",
       "      <td>0.875969</td>\n",
       "      <td>Fragrance Free Clay with Natural Odor Eliminat...</td>\n",
       "    </tr>\n",
       "    <tr>\n",
       "      <th>20594</th>\n",
       "      <td>20598</td>\n",
       "      <td>98</td>\n",
       "      <td>112</td>\n",
       "      <td>0.875000</td>\n",
       "      <td>Thousand Island Salad Snax</td>\n",
       "    </tr>\n",
       "    <tr>\n",
       "      <th>35490</th>\n",
       "      <td>35496</td>\n",
       "      <td>389</td>\n",
       "      <td>451</td>\n",
       "      <td>0.862528</td>\n",
       "      <td>Real2 Alkalized Water 500 ml</td>\n",
       "    </tr>\n",
       "    <tr>\n",
       "      <th>5454</th>\n",
       "      <td>5457</td>\n",
       "      <td>75</td>\n",
       "      <td>87</td>\n",
       "      <td>0.862069</td>\n",
       "      <td>Classic Carbonated Natural Mineral Water</td>\n",
       "    </tr>\n",
       "    <tr>\n",
       "      <th>9288</th>\n",
       "      <td>9292</td>\n",
       "      <td>2517</td>\n",
       "      <td>2921</td>\n",
       "      <td>0.861691</td>\n",
       "      <td>Half And Half Ultra Pasteurized</td>\n",
       "    </tr>\n",
       "    <tr>\n",
       "      <th>45495</th>\n",
       "      <td>45504</td>\n",
       "      <td>7835</td>\n",
       "      <td>9108</td>\n",
       "      <td>0.860233</td>\n",
       "      <td>Whole Organic Omega 3 Milk</td>\n",
       "    </tr>\n",
       "    <tr>\n",
       "      <th>43386</th>\n",
       "      <td>43394</td>\n",
       "      <td>7282</td>\n",
       "      <td>8477</td>\n",
       "      <td>0.859030</td>\n",
       "      <td>Organic Lactose Free Whole Milk</td>\n",
       "    </tr>\n",
       "    <tr>\n",
       "      <th>39738</th>\n",
       "      <td>39746</td>\n",
       "      <td>67</td>\n",
       "      <td>78</td>\n",
       "      <td>0.858974</td>\n",
       "      <td>A.R. Milk Based Infant Formula for Spit‑Up Powder</td>\n",
       "    </tr>\n",
       "    <tr>\n",
       "      <th>5511</th>\n",
       "      <td>5514</td>\n",
       "      <td>3405</td>\n",
       "      <td>3970</td>\n",
       "      <td>0.857683</td>\n",
       "      <td>Organic Homogenized Whole Milk</td>\n",
       "    </tr>\n",
       "    <tr>\n",
       "      <th>47220</th>\n",
       "      <td>47231</td>\n",
       "      <td>1277</td>\n",
       "      <td>1489</td>\n",
       "      <td>0.857623</td>\n",
       "      <td>Ultra-Purified Water</td>\n",
       "    </tr>\n",
       "  </tbody>\n",
       "</table>\n",
       "</div>"
      ],
      "text/plain": [
       "       product_id  reorder_sum  reorder_total  reorder_probability  \\\n",
       "2074         2075           81             87             0.931034   \n",
       "27734       27740           93            101             0.920792   \n",
       "35598       35604           90            100             0.900000   \n",
       "38243       38251           99            111             0.891892   \n",
       "36794       36801           85             96             0.885417   \n",
       "10232       10236          113            129             0.875969   \n",
       "20594       20598           98            112             0.875000   \n",
       "35490       35496          389            451             0.862528   \n",
       "5454         5457           75             87             0.862069   \n",
       "9288         9292         2517           2921             0.861691   \n",
       "45495       45504         7835           9108             0.860233   \n",
       "43386       43394         7282           8477             0.859030   \n",
       "39738       39746           67             78             0.858974   \n",
       "5511         5514         3405           3970             0.857683   \n",
       "47220       47231         1277           1489             0.857623   \n",
       "\n",
       "                                            product_name  \n",
       "2074            Serenity Ultimate Extrema Overnight Pads  \n",
       "27734                                 Chocolate Love Bar  \n",
       "35598                                    Maca Buttercups  \n",
       "38243                              Benchbreak Chardonnay  \n",
       "36794                           Organic Blueberry B Mega  \n",
       "10232  Fragrance Free Clay with Natural Odor Eliminat...  \n",
       "20594                         Thousand Island Salad Snax  \n",
       "35490                       Real2 Alkalized Water 500 ml  \n",
       "5454            Classic Carbonated Natural Mineral Water  \n",
       "9288                     Half And Half Ultra Pasteurized  \n",
       "45495                         Whole Organic Omega 3 Milk  \n",
       "43386                    Organic Lactose Free Whole Milk  \n",
       "39738  A.R. Milk Based Infant Formula for Spit‑Up Powder  \n",
       "5511                      Organic Homogenized Whole Milk  \n",
       "47220                               Ultra-Purified Water  "
      ]
     },
     "execution_count": 22,
     "metadata": {},
     "output_type": "execute_result"
    }
   ],
   "source": [
    "top_reorders = op_prior.groupby(\"product_id\")[\"reordered\"].aggregate({'reorder_sum': sum,'reorder_total': 'count'}).reset_index()\n",
    "top_reorders['reorder_probability'] = top_reorders['reorder_sum'] / top_reorders['reorder_total']\n",
    "top_reorders = pd.merge(top_reorders, products_data[['product_id', 'product_name']], how='left', on=['product_id'])\n",
    "top_reorders = top_reorders[top_reorders.reorder_total > 75].sort_values(['reorder_probability'], ascending=False)[:15]\n",
    "top_reorders"
   ]
  },
  {
   "cell_type": "markdown",
   "metadata": {},
   "source": [
    "The table of products that have the highest probability of being reordered is dominated by beverages, especially milk, but also water and a specific brand of wine. Just because, let's look at how many unique users ordered that specific wine."
   ]
  },
  {
   "cell_type": "code",
   "execution_count": 32,
   "metadata": {},
   "outputs": [
    {
     "data": {
      "text/html": [
       "<div>\n",
       "<style scoped>\n",
       "    .dataframe tbody tr th:only-of-type {\n",
       "        vertical-align: middle;\n",
       "    }\n",
       "\n",
       "    .dataframe tbody tr th {\n",
       "        vertical-align: top;\n",
       "    }\n",
       "\n",
       "    .dataframe thead th {\n",
       "        text-align: right;\n",
       "    }\n",
       "</style>\n",
       "<table border=\"1\" class=\"dataframe\">\n",
       "  <thead>\n",
       "    <tr style=\"text-align: right;\">\n",
       "      <th></th>\n",
       "      <th>order_id</th>\n",
       "      <th>user_id</th>\n",
       "      <th>eval_set</th>\n",
       "      <th>order_number</th>\n",
       "      <th>order_dow</th>\n",
       "      <th>order_hour_of_day</th>\n",
       "      <th>days_since_prior_order</th>\n",
       "    </tr>\n",
       "  </thead>\n",
       "  <tbody>\n",
       "    <tr>\n",
       "      <th>54101</th>\n",
       "      <td>111974</td>\n",
       "      <td>3377</td>\n",
       "      <td>prior</td>\n",
       "      <td>18</td>\n",
       "      <td>4</td>\n",
       "      <td>15</td>\n",
       "      <td>2.0</td>\n",
       "    </tr>\n",
       "  </tbody>\n",
       "</table>\n",
       "</div>"
      ],
      "text/plain": [
       "       order_id  user_id eval_set  order_number  order_dow  order_hour_of_day  \\\n",
       "54101    111974     3377    prior            18          4                 15   \n",
       "\n",
       "       days_since_prior_order  \n",
       "54101                     2.0  "
      ]
     },
     "execution_count": 32,
     "metadata": {},
     "output_type": "execute_result"
    }
   ],
   "source": [
    "# search for product id in product_prior, pull out order_id, find number of unique user_id's associated with those \n",
    "# order_id's in orders.csv\n",
    "#wine_orders = op_prior.product_id == 38251\n",
    "#wine_orders.head()\n",
    "op_prior[op_prior.product_id == 38251].head()\n",
    "#orders_data[orders_data.order_id == 29321]\n",
    "#orders_data[orders_data.order_id == 52633]\n",
    "#orders_data[orders_data.order_id == 79415]\n",
    "#orders_data[orders_data.order_id == 111974]"
   ]
  },
  {
   "cell_type": "code",
   "execution_count": 18,
   "metadata": {},
   "outputs": [
    {
     "data": {
      "text/plain": [
       "Text(0.5,0,'Number of users')"
      ]
     },
     "execution_count": 18,
     "metadata": {},
     "output_type": "execute_result"
    },
    {
     "data": {
      "image/png": "[encoded data removed]",
      "text/plain": [
       "<Figure size 1080x720 with 1 Axes>"
      ]
     },
     "metadata": {},
     "output_type": "display_data"
    }
   ],
   "source": [
    "#(Pan, 2017)\n",
    "order_length_cnt = orders_data.groupby(\"user_id\")[\"order_number\"].aggregate(max).value_counts()\n",
    "cut_off = 70\n",
    "f, ax = plt.subplots(figsize=(15, 10))\n",
    "sns.barplot(order_length_cnt.index[:cut_off], order_length_cnt.values[:cut_off], palette='coolwarm')\n",
    "plt.ylabel('Previous Orders')\n",
    "plt.xlabel('Number of users')"
   ]
  },
  {
   "cell_type": "markdown",
   "metadata": {},
   "source": [
    "As expected, most users have placed 4 prior orders, which is the minimum number of orders in this dataset. As the number of prior orders increases, the number of users drops off and levels out."
   ]
  },
  {
   "cell_type": "markdown",
   "metadata": {},
   "source": [
    "<h4>Feature Creation</h4>\n",
    "\n",
    "After examining the data, it's time to start thinking about what features we can build. We merged order_products_prior.csv with products.csv and orders.csv to get the customer and order data in one place. To make a prediction on whether or not a product will be in the customer's next order, we need to come up with a few features to train the model on. We will use the labels from the train data which contains the last order from the customer.To do that, the dataframe must consist of a row for each product a customer ever ordered and a column specifying whehter that product will be in the next order or not.\n",
    "That means we need to convert all of the order data and transform the dataframe into feature based information. \n",
    "The features we are considering are:\n",
    "Total number of orders of a particular product - times purchased\n",
    "Total proportion of orders containing a given product\n",
    "Average number of items in an order\n",
    "Average position in cart\n",
    "Number of times the item was reordered\n",
    "Max number of orders between orders containing that product\n",
    "Day of the week and how often a given product was ordered on that day or at that time\n",
    "Number of days since prior order\n",
    "The longest that a customer has gone without buying product\n",
    "\n"
   ]
  },
  {
   "cell_type": "markdown",
   "metadata": {},
   "source": [
    "<h3>Results (Plots, tables, etc.)</h3>\n",
    ".\n",
    ".\n",
    "."
   ]
  },
  {
   "cell_type": "markdown",
   "metadata": {},
   "source": [
    "<h3>Conclusions</h3>\n",
    ".\n",
    ".\n",
    "."
   ]
  },
  {
   "cell_type": "markdown",
   "metadata": {},
   "source": [
    "<h3>References</h3>\n",
    "\n",
    "Chen, Edwin (2017, September 19). Instacart Market Basket Analysis, Winner's Interview: 2nd place, Kazuki Onodera [Blog Post]. Retrieved from http://blog.kaggle.com/2017/09/21/instacart-market-basket-analysis-winners-interview-2nd-place-kazuki-onodera/\n",
    "\n",
    "Onodera, Kazuki (2017). Instacart Market Basket Analysis 2nd place solution [GitHub Repository]. Retrieved from https://github.com/KazukiOnodera/Instacart\n",
    "\n",
    "Pan, Yao (2017, September 8). Data Exploratory for Instacart Market Basket Analysis [Jupyter Notebook]. Retrieved from https://github.com/panyao/instacart-solution/blob/master/exploration/Data%20Exploratory%20for%20Instacart%20Market%20Basket%20Analysis.ipynb\n",
    "\n",
    "Serigne (2017, July 5). Instacart Simple Data Exploration [Kaggle Notebook]. Retrieved from https://www.kaggle.com/serigne/instacart-simple-data-exploration\n",
    "\n",
    "Sh1ng (2017, August 7). Baseline 0.4029970 [Kaggle Discussion]. Retreieved from https://www.kaggle.com/c/instacart-market-basket-analysis/discussion/37697\n",
    "\n",
    "Spachtholz, Philipp (2017, June 29). Exploratory Analysis - Instacart [Kaggle Report]. Retrieved from https://www.kaggle.com/philippsp/exploratory-analysis-instacart/notebook\n",
    "\n",
    "Stanley, Jeremy (2017, May 3). 3 Million Instacart Orders, Open Sourced [\n",
    "Sudalairaj, Kumar (2017, June 1). Simple Exploration Notebook - Instacart [Kaggle Report]. Retrieved from https://www.kaggle.com/sudalairajkumar/simple-exploration-notebook-instacart/notebook\n",
    "\n",
    "Tkm2261 (2017, August 16). My 15th Solution Features (mainly using BigQuery) [Kaggle Notebook]. Retrieved from https://www.kaggle.com/tkm2261/my-15th-solution-features-mainly-using-bigquery\n",
    "\n",
    "Vasquez, Sean (2017, August 21). Instacart Market Basket Analysis [GitHub Repository]. Retrieved from https://github.com/sjvasquez/instacart-basket-prediction\n"
   ]
  },
  {
   "cell_type": "markdown",
   "metadata": {},
   "source": [
    "<h3>Appendix (Code, other relevant documents, etc.)</h3>\n",
    ".\n",
    ".\n",
    "."
   ]
  },
  {
   "cell_type": "code",
   "execution_count": null,
   "metadata": {},
   "outputs": [],
   "source": [
    "import numpy as np # linear algebra\n",
    "import pandas as pd # data processing, CSV file I/O (e.g. pd.read_csv)\n",
    "import matplotlib.pyplot as plt\n",
    "import seaborn as sns\n",
    "color = sns.color_palette()\n",
    "\n",
    "%matplotlib inline\n",
    "\n",
    "pd.options.mode.chained_assignment = None  # default='warn'"
   ]
  },
  {
   "cell_type": "code",
   "execution_count": null,
   "metadata": {},
   "outputs": [],
   "source": [
    "order_products_train_df = pd.read_csv(\"../input/order_products__train.csv\")\n",
    "order_products_prior_df = pd.read_csv(\"../input/order_products__prior.csv\")\n",
    "orders_df = pd.read_csv(\"../input/orders.csv\")\n",
    "products_df = pd.read_csv(\"../input/products.csv\")\n",
    "aisles_df = pd.read_csv(\"../input/aisles.csv\")\n",
    "departments_df = pd.read_csv(\"../input/departments.csv\")"
   ]
  },
  {
   "cell_type": "code",
   "execution_count": null,
   "metadata": {},
   "outputs": [],
   "source": [
    "orders_df.head()"
   ]
  },
  {
   "cell_type": "code",
   "execution_count": null,
   "metadata": {},
   "outputs": [],
   "source": [
    "order_products_prior_df.head()"
   ]
  },
  {
   "cell_type": "code",
   "execution_count": null,
   "metadata": {},
   "outputs": [],
   "source": [
    "order_products_train_df.head()"
   ]
  },
  {
   "cell_type": "code",
   "execution_count": null,
   "metadata": {
    "scrolled": true
   },
   "outputs": [],
   "source": [
    "cnt_srs = orders_df.eval_set.value_counts()\n",
    "\n",
    "plt.figure(figsize=(10,6))\n",
    "sns.barplot(cnt_srs.index, cnt_srs.values, alpha=0.8, color=color[2])\n",
    "plt.ylabel('Number of orders', fontsize=14)\n",
    "plt.xlabel('Data type', fontsize=14)\n",
    "plt.title('Prior vs. Train vs. Test', fontsize=18)\n",
    "plt.xticks(rotation='horizontal')\n",
    "plt.show()"
   ]
  },
  {
   "cell_type": "code",
   "execution_count": null,
   "metadata": {},
   "outputs": [],
   "source": [
    "def get_unique_count(x):\n",
    "    return len(np.unique(x))\n",
    "\n",
    "cnt_srs = orders_df.groupby(\"eval_set\")[\"user_id\"].aggregate(get_unique_count)\n",
    "cnt_srs"
   ]
  },
  {
   "cell_type": "code",
   "execution_count": null,
   "metadata": {},
   "outputs": [],
   "source": [
    "import pandas as pd\n",
    "\n",
    "aisles_data = pd.read_csv('aisles.csv')\n",
    "aisles_data.head()"
   ]
  },
  {
   "cell_type": "code",
   "execution_count": null,
   "metadata": {},
   "outputs": [],
   "source": [
    "departments_data = pd.read_csv('departments.csv')\n",
    "departments_data.head()"
   ]
  },
  {
   "cell_type": "code",
   "execution_count": null,
   "metadata": {},
   "outputs": [],
   "source": [
    "orders_data = pd.read_csv('orders.csv')\n",
    "orders_data.head()"
   ]
  },
  {
   "cell_type": "code",
   "execution_count": null,
   "metadata": {},
   "outputs": [],
   "source": [
    "products_data = pd.read_csv('products.csv')\n",
    "products_data.head()"
   ]
  },
  {
   "cell_type": "code",
   "execution_count": null,
   "metadata": {},
   "outputs": [],
   "source": [
    "sample = pd.read_csv('sample_submission.csv')\n",
    "sample.head()"
   ]
  },
  {
   "cell_type": "code",
   "execution_count": null,
   "metadata": {},
   "outputs": [],
   "source": [
    "op_prior = pd.read_csv('order_products__prior.csv')\n",
    "op_prior.head()\n",
    "print(op_prior[(op_prior.order_id == 17)])"
   ]
  },
  {
   "cell_type": "code",
   "execution_count": null,
   "metadata": {},
   "outputs": [],
   "source": [
    "op_train = pd.read_csv('order_products__train.csv')\n",
    "op_train.head()"
   ]
  },
  {
   "cell_type": "code",
   "execution_count": null,
   "metadata": {},
   "outputs": [],
   "source": []
  }
 ],
 "metadata": {
  "kernelspec": {
   "display_name": "Python 3",
   "language": "python",
   "name": "python3"
  },
  "language_info": {
   "codemirror_mode": {
    "name": "ipython",
    "version": 3
   },
   "file_extension": ".py",
   "mimetype": "text/x-python",
   "name": "python",
   "nbconvert_exporter": "python",
   "pygments_lexer": "ipython3",
   "version": "3.7.0"
  }
 },
 "nbformat": 4,
 "nbformat_minor": 2
}
